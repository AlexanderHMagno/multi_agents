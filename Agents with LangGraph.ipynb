{
 "cells": [
  {
   "cell_type": "markdown",
   "id": "b84073f2",
   "metadata": {},
   "source": [
    "# Building Agents with LangGraph\n",
    "\n",
    "## ⭐ Overview\n",
    "\n",
    "This notebook walks through building a **reactive agent workflow** using [LangGraph](https://python.langchain.com/docs/langgraph/)—a Python framework for designing **stateful, multi-node computation graphs** to manage LLM reasoning, tool usage, and memory.\n",
    "\n",
    "The tutorial demonstrates how to:\n",
    "\n",
    "- 🧰 **Define tools** for arithmetic operations (`add`, `multiply`, `divide`)\n",
    "- 🤖 **Construct an agent** using a language model from **OpenRouter**\n",
    "- 🔁 **Control flow** using a graph with condition-based routing between assistant responses and tool calls\n",
    "- ⚙️ **Invoke tools** based on the LLM’s reasoning and continue looping until no further computation is needed\n",
    "- ✍️ **Summarize conversations** at the end of the graph to manage long interaction histories\n",
    "- 🗂️ **Persist memory** using a thread-based checkpoint system for multi-turn, long-lived agent interactions\n"
   ]
  },
  {
   "cell_type": "code",
   "execution_count": 2,
   "id": "0d7b6dcc-c985-46e2-8457-7e6b0298b950",
   "metadata": {},
   "outputs": [],
   "source": [
    "%%capture --no-stderr\n",
    "%pip install -U langgraph langsmith langchain_openai\n",
    "%pip install seaborn matplotlib pandas"
   ]
  },
  {
   "cell_type": "markdown",
   "id": "f332ea71",
   "metadata": {},
   "source": [
    "### Environment Configuration\n",
    "\n",
    "We'll load environment variables from a `.env` file, which should contain your API keys and other configuration settings."
   ]
  },
  {
   "cell_type": "code",
   "execution_count": 3,
   "id": "743c19df-6da9-4d1e-b2d2-ea40080b9fdc",
   "metadata": {},
   "outputs": [
    {
     "data": {
      "text/plain": [
       "True"
      ]
     },
     "execution_count": 3,
     "metadata": {},
     "output_type": "execute_result"
    }
   ],
   "source": [
    "import getpass\n",
    "import os\n",
    "\n",
    "from dotenv import load_dotenv\n",
    "\n",
    "# Load environment variables from .env file\n",
    "load_dotenv()"
   ]
  },
  {
   "cell_type": "markdown",
   "id": "c5debe78",
   "metadata": {},
   "source": [
    "###  2. Setting Up the State Graph\n",
    " \n",
    "We'll first create a **simple chatbot** using LangGraph. This chatbot will respond directly to user messages. Though minimal, it introduces the **core concepts** of building with LangGraph. By the end of this section, you'll have built a rudimentary chatbot powered by a stateful graph.\n",
    "\n",
    "LangGraph builds agents as **state machines**, where each state holds data (like messages), and each node modifies that state. The graph you define controls how messages flow and how the LLM or tools act on them.\n",
    "\n",
    "We start by creating a `StateGraph`. This object defines the structure of our chatbot, including:\n",
    "\n",
    "- **Nodes**: Representing the LLM and any functions (tools) the agent can call  \n",
    "- **Edges**: Specifying how the chatbot transitions between nodes\n",
    "\n",
    "The first step is to define the **State** — the structure of the data your graph will carry and update over time. In our example, the state has a single key: `messages`. This key is annotated with a built-in reducer function `add_messages`, which ensures that messages are **appended** rather than overwritten as the conversation progresses.\n",
    "\n",
    "Our graph can now handle two key tasks:\n",
    "\n",
    "1. Each node receives the current state as input and returns an update to the state.\n",
    "2. Updates to `messages` are accumulated (not overwritten), thanks to the `add_messages` reducer.\n",
    "\n",
    "Any key in the state **without** a reducer annotation will default to being overwritten instead of accumulated.\n",
    "\n",
    "This structure is powerful for multi-step LLM workflows where message history needs to be preserved and tools or models interact over several turns."
   ]
  },
  {
   "cell_type": "code",
   "execution_count": 4,
   "id": "7006cabe",
   "metadata": {},
   "outputs": [],
   "source": [
    "from typing import Annotated\n",
    "\n",
    "from typing_extensions import TypedDict\n",
    "\n",
    "from langgraph.graph import StateGraph, START, END\n",
    "from langgraph.graph.message import add_messages\n",
    "\n",
    "\n",
    "class State(TypedDict):\n",
    "    # Messages have the type \"list\". The `add_messages` function\n",
    "    # in the annotation defines how this state key should be updated\n",
    "    # (in this case, it appends messages to the list, rather than overwriting them)\n",
    "    messages: Annotated[list, add_messages]\n",
    "\n",
    "\n",
    "graph_builder = StateGraph(State)"
   ]
  },
  {
   "cell_type": "markdown",
   "id": "c3d0eb3e",
   "metadata": {},
   "source": [
    "## 3. Creating the LLM-powered Assistant\n",
    "\n",
    "We'll use the OpenAI (or compatible) API through OpenRouter to access Llama 3.1."
   ]
  },
  {
   "cell_type": "code",
   "execution_count": 5,
   "id": "746ca673",
   "metadata": {},
   "outputs": [],
   "source": [
    "from langchain_openai import ChatOpenAI\n",
    "from langgraph.graph import MessagesState\n",
    "from langchain_core.messages import HumanMessage, SystemMessage, AIMessage\n",
    "\n",
    "# Use OPENROUTER_API_KEY for OpenRouter service\n",
    "llm = ChatOpenAI(\n",
    "            openai_api_key=os.getenv(\"OPENROUTER_API_KEY\"),\n",
    "            openai_api_base=os.getenv(\"OPENROUTER_BASE_URL\"),\n",
    "            model_name=\"meta-llama/llama-3.1-8b-instruct\")"
   ]
  },
  {
   "cell_type": "code",
   "execution_count": 6,
   "id": "4283dd21",
   "metadata": {},
   "outputs": [],
   "source": [
    "from langchain_openai import ChatOpenAI\n",
    "from langgraph.graph import MessagesState\n",
    "from langchain_core.messages import HumanMessage, SystemMessage, AIMessage\n",
    "\n",
    "# Use OPENROUTER_API_KEY for OpenRouter service\n",
    "llm = ChatOpenAI(\n",
    "            openai_api_key=os.getenv(\"OPENROUTER_API_KEY\"),\n",
    "            openai_api_base=os.getenv(\"OPENROUTER_BASE_URL\"),\n",
    "            model_name=\"meta-llama/llama-3.1-8b-instruct\")"
   ]
  },
  {
   "cell_type": "markdown",
   "id": "8b9b5fbc",
   "metadata": {},
   "source": [
    "### 3.1 Creating Tools\n",
    "\n",
    "Tools are functions that agents can use to interact with external systems or perform specific operations. Below, we create simple arithmetic tools that our agent will use to perform calculations.\n",
    "\n",
    "Each tool is decorated with `@tool` which provides metadata that helps the LLM understand how to use it properly."
   ]
  },
  {
   "cell_type": "code",
   "execution_count": 7,
   "id": "5c176d4e",
   "metadata": {},
   "outputs": [],
   "source": [
    "from langchain_core.tools import tool\n",
    "\n",
    "@tool\n",
    "def multiply(a: int, b: int) -> int:\n",
    "    \"\"\"Multiply a and b.\n",
    "\n",
    "    Args:\n",
    "        a: first int\n",
    "        b: second int\n",
    "    \"\"\"\n",
    "    return a * b\n",
    "\n",
    "@tool\n",
    "def add(a: int, b: int) -> int:\n",
    "    \"\"\"Adds a and b.\n",
    "\n",
    "    Args:\n",
    "        a: first int\n",
    "        b: second int\n",
    "    \"\"\"\n",
    "    return a + b\n",
    "\n",
    "@tool\n",
    "def divide(a: int, b: int) -> float:\n",
    "    \"\"\"Divide a and b.\n",
    "\n",
    "    Args:\n",
    "        a: first int\n",
    "        b: second int\n",
    "    \"\"\"\n",
    "    return a / b\n",
    "\n",
    "tools = [add, multiply, divide]"
   ]
  },
  {
   "cell_type": "markdown",
   "id": "6c214f93",
   "metadata": {},
   "source": [
    "### 3.2: Create the Assistant Node and bind the tools\n",
    "\n",
    "Next, we define the **assistant node**, which represents the LLM's reasoning and response capabilities. This node is responsible for generating replies based on the current state of the conversation.\n",
    "\n",
    "The assistant function follows a key LangGraph pattern:\n",
    "\n",
    "- It **accepts the current `State`** as input\n",
    "- It **returns a dictionary** containing the updated `messages` under the `\"messages\"` key\n",
    "\n",
    "This is the **standard interface** for any LangGraph node — take in state, return a partial update to state.\n",
    "\n",
    "In this case, the assistant calls the LLM using all prior messages in the state (along with a fixed system message) and appends the model's response to the message history.\n",
    "\n",
    "Since the `messages` key in our state uses the `add_messages` reducer, any messages returned by the assistant will be **appended** to the existing list — not overwrite it. This accumulation is essential for maintaining context over multiple turns.\n",
    "\n",
    "By binding the LLM to tools, we also enable it to detect when to call external functions (e.g., `add`, `multiply`, `divide`) based on user queries. LLM determines, if tool use is required!\n",
    "\n",
    "This assistant node becomes the **core loop** of our agent: reading messages, responding with reasoning or tool calls, and updating the state for the next step.\n"
   ]
  },
  {
   "cell_type": "code",
   "execution_count": 8,
   "id": "6edfb671",
   "metadata": {},
   "outputs": [],
   "source": [
    "# For this ipynb we set parallel tool calling to false as math generally is done sequentially, and this time we have 3 tools that can do math\n",
    "# the OpenAI model specifically defaults to parallel tool calling for efficiency, see https://python.langchain.com/docs/how_to/tool_calling_parallel/\n",
    "# play around with it and see how the model behaves with math equations!\n",
    "llm_with_tools = llm.bind_tools(tools, parallel_tool_calls=False)\n",
    "\n",
    "# System prompt\n",
    "sys_msg = SystemMessage(content=\"You are a helpful assistant tasked with performing arithmetic on a set of inputs.\")\n",
    "\n",
    "# Node\n",
    "def assistant(state: MessagesState):\n",
    "   return {\"messages\": [llm_with_tools.invoke([sys_msg] + state[\"messages\"])]}"
   ]
  },
  {
   "cell_type": "markdown",
   "id": "94334274",
   "metadata": {},
   "source": [
    "## 🔁 4. Building the ReAct Graph\n",
    "\n",
    "Let's construct a ReAct (Reasoning + Acting) graph that enables our agent to repeatedly reason and act until it solves the problem.\n",
    "\n",
    "\n",
    "Now that we’ve defined the building blocks — the assistant node, tool functions, and state — it’s time to **assemble the full LangGraph** by adding nodes and defining the control flow between them.\n",
    "\n",
    "This step creates a **ReAct-style agent loop**, where the assistant decides whether to call a tool or respond directly, looping until the task is complete.\n",
    "\n",
    "#### 🧩 Adding Nodes\n",
    "\n",
    "We start by adding two nodes to the graph:\n",
    "\n",
    "- `\"assistant\"`: The node that invokes the LLM and makes decisions\n",
    "- `\"tools\"`: A special `ToolNode` that executes the bound external functions\n",
    "\n",
    "#### 🔗 Defining Edges (Transitions)\n",
    "\n",
    "Edges define the logic of the conversation flow:\n",
    "\n",
    "- `START → assistant`: Entry point for the graph\n",
    "- `assistant → tools` or `assistant → END`: Conditional path based on whether the LLM decides to invoke a tool\n",
    "- `tools → assistant`: If a tool was used, return to the assistant with updated state\n",
    "\n",
    "The **`tools_condition`** function checks if the LLM's output includes a tool call. If yes, the flow routes to the `tools` node; otherwise, it ends.\n",
    "\n",
    "#### 🚦 Entry and Exit Points\n",
    "\n",
    "- `START`: Marks where execution begins each time the graph is run\n",
    "- `END`: Marks where the graph can terminate\n",
    "\n",
    "#### ⚙️ Compiling the Graph\n",
    "\n",
    "Once all nodes and edges are added, you must call `.compile()` on the `StateGraph` to convert it into an executable `CompiledGraph`. This object can now be used to **invoke** the graph on a given state.\n",
    "\n",
    "#### 🖼️ Visualizing the Graph\n",
    "\n",
    "You can inspect the structure of the graph using:\n",
    "\n",
    "- `.get_graph()` — returns a visualization-ready object\n",
    "- `.draw_ascii()`, `.draw_mermaid_png()`, etc. — different ways to render the graph visually\n",
    "\n",
    "> Note: Visual rendering (like PNG or Mermaid diagrams) requires additional dependencies, which are often installed via `graphviz` or specific LangGraph extras.\n",
    "\n",
    "This step gives you a powerful and transparent way to visualize and debug your agentic workflows.\n"
   ]
  },
  {
   "cell_type": "code",
   "execution_count": 9,
   "id": "cc0da459",
   "metadata": {},
   "outputs": [
    {
     "data": {
      "image/png": "[encoded data removed]",
      "text/plain": [
       "<IPython.core.display.Image object>"
      ]
     },
     "metadata": {},
     "output_type": "display_data"
    }
   ],
   "source": [
    "from langgraph.graph import START, StateGraph\n",
    "from langgraph.prebuilt import tools_condition\n",
    "from langgraph.prebuilt import ToolNode\n",
    "from IPython.display import Image, display\n",
    "\n",
    "# Graph\n",
    "builder = StateGraph(MessagesState)\n",
    "\n",
    "# Define nodes: these do the work\n",
    "builder.add_node(\"assistant\", assistant)\n",
    "builder.add_node(\"tools\", ToolNode(tools))\n",
    "\n",
    "# Define edges: these determine how the control flow moves\n",
    "builder.add_edge(START, \"assistant\")\n",
    "builder.add_conditional_edges(\n",
    "    \"assistant\",\n",
    "    # If the latest message (result) from assistant is a tool call -> tools_condition routes to tools\n",
    "    # If the latest message (result) from assistant is a not a tool call -> tools_condition routes to END\n",
    "    tools_condition,\n",
    ")\n",
    "builder.add_edge(\"tools\", \"assistant\")\n",
    "react_graph = builder.compile()\n",
    "\n",
    "# Show\n",
    "display(Image(react_graph.get_graph(xray=True).draw_mermaid_png()))"
   ]
  },
  {
   "cell_type": "markdown",
   "id": "bd445912",
   "metadata": {},
   "source": [
    "## 5. Persistent Memory with Checkpointing \n",
    "\n",
    "Our assistent can now use tools to answer user questions, but it doesn't remember the context of previous interactions. This limits its ability to have coherent, multi-turn conversations — a key capability for useful AI agents.\n",
    "\n",
    "LangGraph solves this problem using **persistent checkpointing**. By providing a `checkpointer` when compiling the graph, and a `thread_id` when invoking it, LangGraph automatically **saves the state after each step**. On future calls using the same `thread_id`, the graph **resumes from its last state**, enabling seamless multi-turn dialogue.\n",
    "\n",
    "This is far more powerful than traditional “chat memory.” With checkpointing, you can also:\n",
    "- Resume workflows after failure\n",
    "- Perform error recovery\n",
    "- Enable human-in-the-loop approval\n",
    "- Implement time-travel-like behavior in the agent's reasoning path\n",
    "\n",
    "Let’s break this down in two parts: enabling checkpointing and invoking the graph with persistent memory.\n",
    "\n",
    "---\n"
   ]
  },
  {
   "cell_type": "markdown",
   "id": "37b12ad4",
   "metadata": {},
   "source": [
    "### 💬 Testing Multi-Turn Math without Memory\n",
    "\n",
    "With tools now integrated, we can start testing multi-step arithmetic interactions. But without memory, each interaction is isolated — the chatbot won’t remember earlier messages.\n",
    "\n",
    "In this section, we compare two runs of the same mathematical flow:\n",
    "\n",
    "1. First, we run two back-to-back prompts: one asking to add two numbers, and another that refers to the previous result (\"Multiply that by 2\").  \n",
    "   Without memory, the chatbot doesn’t retain context — the second query is treated independently and fails to use the previous result.\n",
    "\n",
    "2. Then, we re-run the same flow, but this time using LangGraph’s `MemorySaver` to enable checkpointing.  \n",
    "   By passing a `thread_id`, the state (including prior messages and tool results) is saved and reused. The chatbot correctly remembers the addition result and uses it in the multiplication step.\n",
    "\n",
    "This confirms that **persistent memory works** as expected, and that LangGraph’s checkpointing system allows for coherent, multi-turn conversations — a critical requirement for building reliable agents.\n"
   ]
  },
  {
   "cell_type": "code",
   "execution_count": 10,
   "id": "8a9d4406",
   "metadata": {},
   "outputs": [
    {
     "name": "stdout",
     "output_type": "stream",
     "text": [
      "================================\u001b[1m Human Message \u001b[0m=================================\n",
      "\n",
      "Add 3 and 4. Multiply the output by 2. Divide the output by 5\n",
      "==================================\u001b[1m Ai Message \u001b[0m==================================\n",
      "Tool Calls:\n",
      "  divide (call_GYZPinhxExUrkwd2yTmZDg1A)\n",
      " Call ID: call_GYZPinhxExUrkwd2yTmZDg1A\n",
      "  Args:\n",
      "    a: 2\n",
      "    b: 5\n",
      "  multiply (call_AtPrQUALUSaOXYXWR8z6ruzW)\n",
      " Call ID: call_AtPrQUALUSaOXYXWR8z6ruzW\n",
      "  Args:\n",
      "    a: 14\n",
      "    b: 2\n",
      "  add (call_piCCdoDkwIOcw837naIONHPc)\n",
      " Call ID: call_piCCdoDkwIOcw837naIONHPc\n",
      "  Args:\n",
      "    a: 3\n",
      "    b: 4\n",
      "=================================\u001b[1m Tool Message \u001b[0m=================================\n",
      "Name: divide\n",
      "\n",
      "0.4\n",
      "=================================\u001b[1m Tool Message \u001b[0m=================================\n",
      "Name: multiply\n",
      "\n",
      "28\n",
      "=================================\u001b[1m Tool Message \u001b[0m=================================\n",
      "Name: add\n",
      "\n",
      "7\n",
      "==================================\u001b[1m Ai Message \u001b[0m==================================\n",
      "\n",
      "That's the step-by-step process!\n"
     ]
    }
   ],
   "source": [
    "messages = [HumanMessage(content=\"Add 3 and 4. Multiply the output by 2. Divide the output by 5\")]\n",
    "messages = react_graph.invoke({\"messages\": messages})\n",
    "\n",
    "for m in messages['messages']:\n",
    "    m.pretty_print()"
   ]
  },
  {
   "cell_type": "markdown",
   "id": "d40639f0",
   "metadata": {},
   "source": [
    "### Example 2: Simple Addition\n",
    "A simpler example that only requires a single tool call."
   ]
  },
  {
   "cell_type": "code",
   "execution_count": 11,
   "id": "32b9a632",
   "metadata": {},
   "outputs": [
    {
     "name": "stdout",
     "output_type": "stream",
     "text": [
      "================================\u001b[1m Human Message \u001b[0m=================================\n",
      "\n",
      "Add 3 and 4.\n",
      "==================================\u001b[1m Ai Message \u001b[0m==================================\n",
      "\n",
      "The sum of 3 and 4 is 7.\n"
     ]
    }
   ],
   "source": [
    "messages = [HumanMessage(content=\"Add 3 and 4.\")]\n",
    "messages = react_graph.invoke({\"messages\": messages})\n",
    "for m in messages['messages']:\n",
    "    m.pretty_print()"
   ]
  },
  {
   "cell_type": "markdown",
   "id": "b86f63ae",
   "metadata": {},
   "source": [
    "### Example 3: Follow-up Question\n",
    "This example tests whether the agent can understand context from previous operations. However, without memory between invocations, it won't have access to previous results. We'll fix this in the next section."
   ]
  },
  {
   "cell_type": "code",
   "execution_count": 12,
   "id": "8507d14f",
   "metadata": {},
   "outputs": [
    {
     "name": "stdout",
     "output_type": "stream",
     "text": [
      "================================\u001b[1m Human Message \u001b[0m=================================\n",
      "\n",
      "Multiply that by 2.\n",
      "==================================\u001b[1m Ai Message \u001b[0m==================================\n",
      "\n",
      "\n",
      "\n",
      "Result: multiply=a*5*2=10\n",
      "Tool Calls:\n",
      "  multiply (call_8ftWEjzYgxHFuagmvi1KYRFF)\n",
      " Call ID: call_8ftWEjzYgxHFuagmvi1KYRFF\n",
      "  Args:\n",
      "    a: 5\n",
      "    b: 2\n",
      "=================================\u001b[1m Tool Message \u001b[0m=================================\n",
      "Name: multiply\n",
      "\n",
      "10\n",
      "==================================\u001b[1m Ai Message \u001b[0m==================================\n"
     ]
    }
   ],
   "source": [
    "messages = [HumanMessage(content=\"Multiply that by 2.\")]\n",
    "messages = react_graph.invoke({\"messages\": messages})\n",
    "for m in messages['messages']:\n",
    "    m.pretty_print()"
   ]
  },
  {
   "cell_type": "markdown",
   "id": "1760da66",
   "metadata": {},
   "source": [
    "### 🧠 5.2.  Enable Checkpointing with a MemorySaver\n",
    "\n",
    "We begin by using the `MemorySaver` checkpointer from LangGraph:\n",
    "\n",
    "- This in-memory checkpointer is perfect for tutorials or prototypes\n",
    "- In production, you’d replace it with a persistent store like `SqliteSaver` or `PostgresSaver`\n",
    "\n",
    "> 📘 *API Reference: [`MemorySaver`](https://docs.langgraph.com/api/langgraph.checkpoint.memory.MemorySaver.html)*\n"
   ]
  },
  {
   "cell_type": "code",
   "execution_count": 13,
   "id": "35230738",
   "metadata": {},
   "outputs": [],
   "source": [
    "from langgraph.checkpoint.memory import MemorySaver\n",
    "memory = MemorySaver()\n",
    "react_graph_memory = builder.compile(checkpointer=memory)\n",
    "\n",
    "# Specify a thread\n",
    "config = {\"configurable\": {\"thread_id\": \"1\"}}"
   ]
  },
  {
   "cell_type": "markdown",
   "id": "efb3d84e",
   "metadata": {},
   "source": [
    "### 💬 Let's verify!"
   ]
  },
  {
   "cell_type": "code",
   "execution_count": 14,
   "id": "1af5d29c",
   "metadata": {},
   "outputs": [
    {
     "name": "stdout",
     "output_type": "stream",
     "text": [
      "================================\u001b[1m Human Message \u001b[0m=================================\n",
      "\n",
      "Add 3 and 4.\n",
      "==================================\u001b[1m Ai Message \u001b[0m==================================\n",
      "Tool Calls:\n",
      "  add (call_qMdACifMoTH1rjIAcVVz57hN)\n",
      " Call ID: call_qMdACifMoTH1rjIAcVVz57hN\n",
      "  Args:\n",
      "    a: 3\n",
      "    b: 4\n",
      "=================================\u001b[1m Tool Message \u001b[0m=================================\n",
      "Name: add\n",
      "\n",
      "7\n",
      "==================================\u001b[1m Ai Message \u001b[0m==================================\n",
      "\n",
      "The function 'add' has been called with the required parameters 'a' and 'b' set to 3 and 4 respectively. The result of this operation is 7.\n"
     ]
    }
   ],
   "source": [
    "# Specify an input\n",
    "messages = [HumanMessage(content=\"Add 3 and 4.\")]\n",
    "messages = react_graph_memory.invoke({\"messages\": messages},config)\n",
    "for m in messages['messages']:\n",
    "    m.pretty_print()"
   ]
  },
  {
   "cell_type": "code",
   "execution_count": 15,
   "id": "772d9612",
   "metadata": {},
   "outputs": [
    {
     "name": "stdout",
     "output_type": "stream",
     "text": [
      "================================\u001b[1m Human Message \u001b[0m=================================\n",
      "\n",
      "Add 3 and 4.\n",
      "==================================\u001b[1m Ai Message \u001b[0m==================================\n",
      "Tool Calls:\n",
      "  add (call_qMdACifMoTH1rjIAcVVz57hN)\n",
      " Call ID: call_qMdACifMoTH1rjIAcVVz57hN\n",
      "  Args:\n",
      "    a: 3\n",
      "    b: 4\n",
      "=================================\u001b[1m Tool Message \u001b[0m=================================\n",
      "Name: add\n",
      "\n",
      "7\n",
      "==================================\u001b[1m Ai Message \u001b[0m==================================\n",
      "\n",
      "The function 'add' has been called with the required parameters 'a' and 'b' set to 3 and 4 respectively. The result of this operation is 7.\n",
      "================================\u001b[1m Human Message \u001b[0m=================================\n",
      "\n",
      "Multiply that by 2.\n",
      "==================================\u001b[1m Ai Message \u001b[0m==================================\n",
      "Tool Calls:\n",
      "  multiply (call_Zq53ISJwWDg9XDmFOuu4L7Cr)\n",
      " Call ID: call_Zq53ISJwWDg9XDmFOuu4L7Cr\n",
      "  Args:\n",
      "    a: 7\n",
      "    b: 2\n",
      "=================================\u001b[1m Tool Message \u001b[0m=================================\n",
      "Name: multiply\n",
      "\n",
      "14\n",
      "==================================\u001b[1m Ai Message \u001b[0m==================================\n",
      "\n",
      "The function 'multiply' has been called with the required parameters 'a' and 'b' set to 7 and 2 respectively. The result of this operation is 14.\n"
     ]
    }
   ],
   "source": [
    "messages = [HumanMessage(content=\"Multiply that by 2.\")]\n",
    "messages = react_graph_memory.invoke({\"messages\": messages}, config)\n",
    "for m in messages['messages']:\n",
    "    m.pretty_print()"
   ]
  },
  {
   "cell_type": "markdown",
   "id": "ba82d90c",
   "metadata": {},
   "source": [
    "## 6. Enhanced Graph with Summarization\n",
    "\n",
    "Next, we'll build an enhanced version of our graph that adds conversation summarization capabilities. This is useful for:\n",
    "- Maintaining context while reducing token usage\n",
    "- Providing a concise overview of the conversation\n",
    "- Simulating long-term memory through summarization\n",
    "\n",
    "We add a new node that summarizes the conversation when the assistant is done using tools."
   ]
  },
  {
   "cell_type": "code",
   "execution_count": 16,
   "id": "30cfcaad",
   "metadata": {},
   "outputs": [
    {
     "data": {
      "image/png": "[encoded data removed]",
      "text/plain": [
       "<IPython.core.display.Image object>"
      ]
     },
     "metadata": {},
     "output_type": "display_data"
    }
   ],
   "source": [
    "from langgraph.graph import START, StateGraph, END\n",
    "from langgraph.prebuilt import tools_condition\n",
    "from langgraph.prebuilt import ToolNode\n",
    "from langchain_core.messages import HumanMessage, RemoveMessage\n",
    "from IPython.display import Image, display\n",
    "\n",
    "# LLM\n",
    "model = llm  # use your LLM object\n",
    "\n",
    "# System message\n",
    "sys_msg = SystemMessage(content=\"You are a helpful assistant tasked with performing arithmetic on a set of inputs. Always Summerize the conversation before ending.\")\n",
    "\n",
    "# Node\n",
    "def assistant(state: MessagesState):\n",
    "   return {\"messages\": [llm_with_tools.invoke([sys_msg] + state[\"messages\"])]}\n",
    "\n",
    "# Summarization node\n",
    "def summarize_conversation(state: MessagesState) -> dict:\n",
    "    summary = state.get(\"summary\", \"\")\n",
    "    \n",
    "    # Always prompt for summary\n",
    "    summary_prompt = \"Create a concise summary of the conversation above:\"\n",
    "    summary_request = HumanMessage(content=summary_prompt)\n",
    "    \n",
    "    # Use previous messages + summary request\n",
    "    messages = state[\"messages\"] + [summary_request]\n",
    "    response = model.invoke(messages)\n",
    "\n",
    "    # Simulate windowing: delete old messages\n",
    "    delete_messages = [RemoveMessage(id=m.id) for m in state[\"messages\"][:-2]]\n",
    "    \n",
    "    return {\n",
    "        \"summary\": response.content,\n",
    "        \"messages\": delete_messages\n",
    "    }\n",
    "\n",
    "# Build graph\n",
    "builder = StateGraph(MessagesState)\n",
    "\n",
    "# Replace tools_condition to always summarize\n",
    "def tools_or_summarize(state: MessagesState):\n",
    "    if tools_condition(state) == \"tools\":\n",
    "        return \"Toolize\"\n",
    "    return \"Summarize\"\n",
    "\n",
    "# Nodes\n",
    "builder.add_node(\"assistant\", assistant)\n",
    "builder.add_node(\"tools\", ToolNode(tools))\n",
    "builder.add_node(\"summarize_conversation\", summarize_conversation)\n",
    "\n",
    "# Edges - Fixed: mapping keys must match function return values\n",
    "builder.add_edge(START, \"assistant\")\n",
    "builder.add_conditional_edges(\"assistant\", tools_or_summarize,\n",
    "    {\n",
    "          \"Toolize\": \"tools\",                     # Key matches function return\n",
    "          \"Summarize\": \"summarize_conversation\"  # Key matches function return\n",
    "     })\n",
    "builder.add_edge(\"tools\", \"assistant\")  # loop back\n",
    "builder.add_edge(\"summarize_conversation\", END)\n",
    "\n",
    "# Compile and show\n",
    "react_graph = builder.compile()\n",
    "display(Image(react_graph.get_graph(xray=True).draw_mermaid_png()))"
   ]
  },
  {
   "cell_type": "markdown",
   "id": "3f100c83",
   "metadata": {},
   "source": [
    "## 6. Testing the Summarization\n",
    "\n",
    "Let's test our enhanced graph with a pre-built conversation about traveling to Italy. This will demonstrate how the system generates a summary from a longer conversation.\n",
    "\n",
    "The conversation includes multiple messages about different cities in Italy, travel timing, and recommendations. Our agent will process this and create a concise summary."
   ]
  },
  {
   "cell_type": "code",
   "execution_count": 17,
   "id": "9f8e6da3",
   "metadata": {},
   "outputs": [
    {
     "name": "stdout",
     "output_type": "stream",
     "text": [
      "[TOOL] 5.0\n",
      "[AI] It seems you entered a value for the set division function instead of asking a question. If you're looking for a calculation, I'm here to help.\n",
      "\n",
      "If you'd like to calculate something related to your trip, such as the cost of accommodations or transportation, feel free to ask.\n",
      "\n",
      "To summarize, we discussed planning a 3-day trip to Italy, prioritizing specific attractions in Rome, Florence, and Venice, and didn't perform any arithmetic calculations.\n"
     ]
    }
   ],
   "source": [
    "messages = [\n",
    "    HumanMessage(content=\"Hi, I'm planning a trip to Italy. I'm really excited about it.\"),\n",
    "    HumanMessage(content=\"I want to visit Rome for its history. Rome has so much to see.\"),\n",
    "    HumanMessage(content=\"Also thinking of Florence, because I heard it's great for art.\"),\n",
    "    AIMessage(content=\"Yes! Florence has the Uffizi Gallery and amazing Renaissance art.\"),\n",
    "    HumanMessage(content=\"Oh and Venice too. I've always wanted to ride a gondola in Venice.\"),\n",
    "    AIMessage(content=\"Venice is beautiful and unique. A gondola ride is a must!\"),\n",
    "    HumanMessage(content=\"What's the best time of year to go to Italy? I don't like extreme heat.\"),\n",
    "    AIMessage(content=\"Spring (April to June) and Fall (September to October) are ideal.\"),\n",
    "    HumanMessage(content=\"But I'll only have 3 days in Italy. What should I prioritize?\"),\n",
    "    AIMessage(content=\"In Rome, visit the Colosseum, Vatican City, and the Pantheon.\"),\n",
    "    AIMessage(content=\"In Florence, see Michelangelo's David and the Duomo.\"),\n",
    "    AIMessage(content=\"In Venice, take a gondola ride and visit St. Mark's Basilica.\"),\n",
    "    HumanMessage(content=\"Thanks! I'll plan my trip around those recommendations.\")\n",
    "]\n",
    "\n",
    "config = {\"configurable\": {\"thread_id\": \"long-trip-convo\"}}\n",
    "\n",
    "result = react_graph.invoke({\"messages\": messages}, config)\n",
    "\n",
    "# Show final result\n",
    "for msg in result[\"messages\"]:\n",
    "    print(f\"[{msg.type.upper()}] {msg.content}\")\n"
   ]
  },
  {
   "cell_type": "markdown",
   "id": "d1f531a7",
   "metadata": {},
   "source": [
    "## ✅ Conclusion\n",
    "\n",
    "In this tutorial, we explored how to build a tool-using, multi-turn chatbot using **LangGraph** — a framework for structuring LLM workflows as stateful computation graphs.\n",
    "\n",
    "We walked through:\n",
    "\n",
    "- Defining and registering arithmetic tools  \n",
    "- Creating assistant nodes that interact with an LLM (OpenRouter or Claude)  \n",
    "- Constructing a **ReAct-style graph loop** for reasoning + tool use  \n",
    "- Adding a **summarization node** to manage long conversations  \n",
    "- Enabling **persistent memory** through checkpointing for multi-turn interactions\n",
    "\n",
    "By the end, we demonstrated how LangGraph can handle complex, stateful workflows — making it ideal for building **reliable**, **tool-augmented**, and **memory-aware** AI agents.\n"
   ]
  }
 ],
 "metadata": {
  "kernelspec": {
   "display_name": "Agents_Env",
   "language": "python",
   "name": "python3"
  },
  "language_info": {
   "codemirror_mode": {
    "name": "ipython",
    "version": 3
   },
   "file_extension": ".py",
   "mimetype": "text/x-python",
   "name": "python",
   "nbconvert_exporter": "python",
   "pygments_lexer": "ipython3",
   "version": "3.11.11"
  }
 },
 "nbformat": 4,
 "nbformat_minor": 5
}
